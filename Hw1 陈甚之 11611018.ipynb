{
 "cells": [
  {
   "cell_type": "markdown",
   "metadata": {},
   "source": [
    "p1"
   ]
  },
  {
   "cell_type": "code",
   "execution_count": null,
   "metadata": {},
   "outputs": [],
   "source": [
    "fruits=[\"apple\",\"pear\",\"orange\",\"pineapple\",\"mandarin\"]"
   ]
  },
  {
   "cell_type": "markdown",
   "metadata": {},
   "source": [
    "P2"
   ]
  },
  {
   "cell_type": "code",
   "execution_count": null,
   "metadata": {},
   "outputs": [],
   "source": [
    "def is_apple(fruits):\n",
    "    if fruits == \"apple\":\n",
    "        return \"I found it!\"\n",
    "    for i in range(len(fruits)):\n",
    "        print(is_apple(fruits[i]))"
   ]
  },
  {
   "cell_type": "markdown",
   "metadata": {},
   "source": [
    "P3"
   ]
  },
  {
   "cell_type": "code",
   "execution_count": 6,
   "metadata": {},
   "outputs": [],
   "source": [
    "fruits.append(\"banana\")\n",
    "fruits.append(\"kiwi\")"
   ]
  },
  {
   "cell_type": "markdown",
   "metadata": {},
   "source": [
    "p4"
   ]
  },
  {
   "cell_type": "code",
   "execution_count": 9,
   "metadata": {},
   "outputs": [],
   "source": [
    "apple_name_length=[]\n",
    "for i in range(len(fruits)):\n",
    "    apple_name_length.append(str(fruits[i])+\" has \"+str(len(fruits[i]))+\"letters\")"
   ]
  },
  {
   "cell_type": "markdown",
   "metadata": {},
   "source": [
    "p5"
   ]
  },
  {
   "cell_type": "code",
   "execution_count": 11,
   "metadata": {},
   "outputs": [
    {
     "ename": "ModuleNotFoundError",
     "evalue": "No module named 'numpy'",
     "output_type": "error",
     "traceback": [
      "\u001b[0;31m---------------------------------------------------------------------------\u001b[0m",
      "\u001b[0;31mModuleNotFoundError\u001b[0m                       Traceback (most recent call last)",
      "\u001b[0;32m<ipython-input-11-7e358d946514>\u001b[0m in \u001b[0;36m<module>\u001b[0;34m()\u001b[0m\n\u001b[0;32m----> 1\u001b[0;31m \u001b[0;32mimport\u001b[0m \u001b[0mnumpy\u001b[0m\u001b[0;34m\u001b[0m\u001b[0m\n\u001b[0m\u001b[1;32m      2\u001b[0m \u001b[0;32mdef\u001b[0m \u001b[0mhalf_squared\u001b[0m\u001b[0;34m(\u001b[0m\u001b[0mlist\u001b[0m\u001b[0;34m)\u001b[0m\u001b[0;34m:\u001b[0m\u001b[0;34m\u001b[0m\u001b[0m\n\u001b[1;32m      3\u001b[0m     \u001b[0mresults\u001b[0m\u001b[0;34m=\u001b[0m\u001b[0;34m[\u001b[0m\u001b[0;34m]\u001b[0m\u001b[0;34m\u001b[0m\u001b[0m\n\u001b[1;32m      4\u001b[0m     \u001b[0;32mfor\u001b[0m \u001b[0mi\u001b[0m \u001b[0;32min\u001b[0m \u001b[0mrange\u001b[0m\u001b[0;34m(\u001b[0m\u001b[0mlen\u001b[0m\u001b[0;34m(\u001b[0m\u001b[0mlist\u001b[0m\u001b[0;34m)\u001b[0m\u001b[0;34m)\u001b[0m\u001b[0;34m:\u001b[0m\u001b[0;34m\u001b[0m\u001b[0m\n\u001b[1;32m      5\u001b[0m         \u001b[0mresults\u001b[0m\u001b[0;34m.\u001b[0m\u001b[0mappend\u001b[0m\u001b[0;34m(\u001b[0m\u001b[0mstr\u001b[0m\u001b[0;34m(\u001b[0m\u001b[0mnumpy\u001b[0m\u001b[0;34m.\u001b[0m\u001b[0msquare\u001b[0m\u001b[0;34m(\u001b[0m\u001b[0mlist\u001b[0m\u001b[0;34m[\u001b[0m\u001b[0mi\u001b[0m\u001b[0;34m]\u001b[0m\u001b[0;34m)\u001b[0m\u001b[0;34m/\u001b[0m\u001b[0;36m2\u001b[0m\u001b[0;34m)\u001b[0m\u001b[0;34m)\u001b[0m\u001b[0;34m\u001b[0m\u001b[0m\n",
      "\u001b[0;31mModuleNotFoundError\u001b[0m: No module named 'numpy'"
     ]
    }
   ],
   "source": [
    "import numpy\n",
    "def half_squared(list):\n",
    "    results=[]\n",
    "    for i in range(len(list)):\n",
    "        results.append(str(numpy.square(list[i])/2))\n",
    "    return results\n",
    "half_squared([3,3])\n"
   ]
  },
  {
   "cell_type": "markdown",
   "metadata": {},
   "source": [
    "p6"
   ]
  },
  {
   "cell_type": "code",
   "execution_count": 23,
   "metadata": {},
   "outputs": [
    {
     "name": "stdout",
     "output_type": "stream",
     "text": [
      "input scores : 1\n",
      "C\n"
     ]
    }
   ],
   "source": [
    "a=int(input(\"input scores : \"))\n",
    "if(a >=90):   \n",
    "    print(\"A\")                    \n",
    "if(a>100 or a<0):                                     \n",
    "    print(\"error!\")     \n",
    "if(a<60):          \n",
    "    print(\"C\")\n",
    "if(a>=60 and a<=89):\n",
    "    print(\"B\")\n",
    "\n",
    "\n"
   ]
  },
  {
   "cell_type": "markdown",
   "metadata": {},
   "source": [
    "p7"
   ]
  },
  {
   "cell_type": "code",
   "execution_count": 26,
   "metadata": {},
   "outputs": [
    {
     "name": "stdout",
     "output_type": "stream",
     "text": [
      "[32, 12, 4]\n"
     ]
    }
   ],
   "source": [
    "def revsort(a,b,c):    \n",
    "    result=[]\n",
    "    if (a>=b):\n",
    "        d=a\n",
    "        e=b\n",
    "    else:\n",
    "        d=b\n",
    "        e=a\n",
    "    if(d>=c):\n",
    "        if(e>=c):\n",
    "            result.append(d)\n",
    "            result.append(e)\n",
    "            result.append(c)\n",
    "        else:\n",
    "            result.append(d)\n",
    "            result.append(c)\n",
    "            result.append(e)\n",
    "    else:\n",
    "        result.append(c)\n",
    "        result.append(d)\n",
    "        result.append(e)\n",
    "    return result\n",
    "print(revsort(12,4,32))\n"
   ]
  },
  {
   "cell_type": "markdown",
   "metadata": {},
   "source": [
    "p8"
   ]
  },
  {
   "cell_type": "code",
   "execution_count": 28,
   "metadata": {},
   "outputs": [
    {
     "data": {
      "text/plain": [
       "[1, 2, 3, 4, 5, 6]"
      ]
     },
     "execution_count": 28,
     "metadata": {},
     "output_type": "execute_result"
    }
   ],
   "source": [
    "def f(x):\n",
    "    list1=x[0]\n",
    "    list2=x[1]\n",
    "    for i in range(len(list2)):\n",
    "        list1.append(list2[i])\n",
    "    return list1\n",
    "list1 = [1,2,3]\n",
    "list2 = [4,5,6]\n",
    "array = [list1,list2]\n",
    "f(array) \n"
   ]
  },
  {
   "cell_type": "markdown",
   "metadata": {},
   "source": [
    "p9"
   ]
  },
  {
   "cell_type": "code",
   "execution_count": 41,
   "metadata": {},
   "outputs": [
    {
     "name": "stdout",
     "output_type": "stream",
     "text": [
      "1,8,17,18,26,27,"
     ]
    }
   ],
   "source": [
    "def f(x):\n",
    "    list1=[]\n",
    "    n=x**3\n",
    "    while (n>0):\n",
    "        list1.append(n%10)\n",
    "        n=int(n/10)\n",
    "    result=sum(list1)\n",
    "    if(result==x):\n",
    "        return str(str(x)+\",\")\n",
    "    else:\n",
    "        return \"\"\n",
    "    \n",
    "result=[]     \n",
    "for i in map(f,range(1,101)):\n",
    "    print(i,end=\"\")\n"
   ]
  },
  {
   "cell_type": "markdown",
   "metadata": {},
   "source": [
    "p10"
   ]
  },
  {
   "cell_type": "code",
   "execution_count": 42,
   "metadata": {},
   "outputs": [
    {
     "name": "stdout",
     "output_type": "stream",
     "text": [
      "7,2\n"
     ]
    }
   ],
   "source": [
    "import random\n",
    "x=random.randint(1,10)\n",
    "y=random.randint(1,10)\n",
    "c=x\n",
    "x=y\n",
    "y=c\n",
    "print(str(x)+\",\"+str(y))"
   ]
  },
  {
   "cell_type": "markdown",
   "metadata": {},
   "source": [
    "p11"
   ]
  },
  {
   "cell_type": "code",
   "execution_count": 50,
   "metadata": {},
   "outputs": [
    {
     "name": "stdout",
     "output_type": "stream",
     "text": [
      "   *   \n",
      "  ***  \n",
      " ***** \n",
      "*******\n",
      " ***** \n",
      "  ***  \n",
      "   *   \n"
     ]
    }
   ],
   "source": [
    "def f(n):                            \n",
    "    x=1                              \n",
    "    for i in range(int((n-1)/2)):    \n",
    "        list1=[]                     \n",
    "        for i in range(int((n-x)/2)):\n",
    "            list1.append(\" \")        \n",
    "        for i in range(x):           \n",
    "            list1.append(\"*\")        \n",
    "        for i in range(int((n-x)/2)):\n",
    "            list1.append(\" \")\n",
    "        x=x+2            \n",
    "        for i in range(len(list1)):\n",
    "            print(list1[i],end=\"\")     \n",
    "        list1=[] \n",
    "        print()\n",
    "    for i in range(n):           \n",
    "        list1.append(\"*\")            \n",
    "    for i in range(len(list1)):\n",
    "            print(list1[i],end=\"\")\n",
    "    print()\n",
    "    x=x+2                            \n",
    "    for i in range(int((n-1)/2)):    \n",
    "        list1=[]                     \n",
    "        for i in range(int((x-n)/2)):\n",
    "            list1.append(\" \")        \n",
    "        for i in range(n*2-x):       \n",
    "            list1.append(\"*\")        \n",
    "        for i in range(int((x-n)/2)):\n",
    "            list1.append(\" \")                       \n",
    "        x=x+2  \n",
    "        for i in range(len(list1)):\n",
    "            print(list1[i],end=\"\")\n",
    "        print()\n",
    "f(7)"
   ]
  },
  {
   "cell_type": "markdown",
   "metadata": {},
   "source": [
    "p12"
   ]
  },
  {
   "cell_type": "code",
   "execution_count": 52,
   "metadata": {},
   "outputs": [
    {
     "name": "stdout",
     "output_type": "stream",
     "text": [
      "1 2 3 4 5 6 \n",
      "2 3 4 5 6 1 \n",
      "3 4 5 6 1 2 \n",
      "4 5 6 1 2 3 \n",
      "5 6 1 2 3 4 \n",
      "6 1 2 3 4 5 \n"
     ]
    }
   ],
   "source": [
    "x=[]\n",
    "for i in range(1,7):\n",
    "    for j in range(i,7):\n",
    "        print(j,end=\" \")\n",
    "    for f in range(len(x)):\n",
    "        print(x[f],end=\" \")\n",
    "    print()\n",
    "    x.append(i)"
   ]
  },
  {
   "cell_type": "markdown",
   "metadata": {},
   "source": [
    "p13"
   ]
  },
  {
   "cell_type": "code",
   "execution_count": 58,
   "metadata": {},
   "outputs": [
    {
     "name": "stdout",
     "output_type": "stream",
     "text": [
      "Charles,Martina,Michael,Florence,Eli,"
     ]
    }
   ],
   "source": [
    "players = ['charles','martina','michael','florence','eli']\n",
    "for i in range(len(players)):\n",
    "    print(players[i].title(),end=\",\")"
   ]
  },
  {
   "cell_type": "markdown",
   "metadata": {},
   "source": []
  },
  {
   "cell_type": "code",
   "execution_count": null,
   "metadata": {},
   "outputs": [],
   "source": []
  },
  {
   "cell_type": "code",
   "execution_count": null,
   "metadata": {},
   "outputs": [],
   "source": []
  },
  {
   "cell_type": "code",
   "execution_count": null,
   "metadata": {},
   "outputs": [],
   "source": []
  }
 ],
 "metadata": {
  "kernelspec": {
   "display_name": "Python 3",
   "language": "python",
   "name": "python3"
  },
  "language_info": {
   "codemirror_mode": {
    "name": "ipython",
    "version": 3
   },
   "file_extension": ".py",
   "mimetype": "text/x-python",
   "name": "python",
   "nbconvert_exporter": "python",
   "pygments_lexer": "ipython3",
   "version": "3.6.6"
  }
 },
 "nbformat": 4,
 "nbformat_minor": 2
}
