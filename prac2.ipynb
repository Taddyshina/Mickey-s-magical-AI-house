{
 "cells": [
  {
   "cell_type": "markdown",
   "metadata": {},
   "source": [
    "# Introduction to Artificial Intelligence for Non Computing"
   ]
  },
  {
   "cell_type": "markdown",
   "metadata": {},
   "source": [
    "## Practical 2 (weeks 3 - 4)"
   ]
  },
  {
   "cell_type": "markdown",
   "metadata": {},
   "source": [
    "## Search Techniques"
   ]
  },
  {
   "cell_type": "markdown",
   "metadata": {},
   "source": [
    "The following links provide additional information about depth first search and breath first search"
   ]
  },
  {
   "cell_type": "markdown",
   "metadata": {},
   "source": [
    "- Depth first search:   link：https://pan.baidu.com/s/1bkLHKKbSBNpfFuKwDyURqw  password：oy76\n",
    "- Breath first search:  link：https://pan.baidu.com/s/176g5q0W3rGbSAM5tZMraeg   password：7mdh"
   ]
  },
  {
   "cell_type": "markdown",
   "metadata": {},
   "source": [
    "#### Theory Questions "
   ]
  },
  {
   "cell_type": "markdown",
   "metadata": {},
   "source": [
    "1\\. What is an algorithm? A sequence of steps such as a recipe or a movie script.\n",
    "\n",
    "As a movie viewer, please write an algorithm for a process to \"see a movie\". Include details of the following for example (add additional information yourself):\n",
    "\t- The start conditions \n",
    "\t-- I want to watch a movie\n",
    "\t- Roles (people/actors involved) \n",
    "    --watcher, ticket seller etc \n",
    "    -Equipment required (\"props\")\n",
    "    --seats, ticket etc\n",
    "    - The scenes \n",
    "    -- scene 1 - buy ticket \n",
    "    -- ??? what happens next\n",
    "    -- scene 3, scene 3 ...\n",
    "    - Results/outcomes\n",
    "    -- ?\n"
   ]
  },
  {
   "cell_type": "markdown",
   "metadata": {},
   "source": [
    "Your answer here:\n",
    "\n",
    "***"
   ]
  },
  {
   "cell_type": "markdown",
   "metadata": {},
   "source": [
    "If you want to watch a movie:\n",
    "yes:go through/else:exit;\n",
    "If you have booked it on the net:\n",
    "yes:go to the cinma and got your ticket/else:Book a ticket om the net;\n",
    "while(right seat){\n",
    "searching seats;}\n",
    "watch movie;\n"
   ]
  },
  {
   "cell_type": "markdown",
   "metadata": {},
   "source": [
    "2\\. A farmer with his wolf, duck and bag of corn come to the east side of a river they wish to cross. There is a boat at the rivers edge, but of course only the farmer can row. The boat can only hold two things (including the rower) at any one time. If the wolf is ever left alone with the duck, the wolf will eat it. Similarly if the duck is ever left alone with the corn, the duck will eat it. How can the farmer get across the river so that all four arrive safely on the other side? "
   ]
  },
  {
   "cell_type": "markdown",
   "metadata": {},
   "source": [
    "_your answer here..._ \n",
    "\n",
    "***"
   ]
  },
  {
   "cell_type": "markdown",
   "metadata": {},
   "source": [
    "farmer and duck cross the river;\n",
    "\n",
    "farmer back;\n",
    "\n",
    "farmer and corn cross the river;\n",
    "\n",
    "farmer and dark back;\n",
    "\n",
    "farmer and wolf cross the river;\n",
    "\n",
    "famer back;\n",
    "\n",
    "famer and duck cross the river;"
   ]
  },
  {
   "cell_type": "markdown",
   "metadata": {},
   "source": [
    " "
   ]
  },
  {
   "cell_type": "markdown",
   "metadata": {},
   "source": [
    "3\\.Explain why we determine our problem goals before we write the problem formulation (including the model and deciding what algorithm or techniques to use - for example search, or other method).\n",
    "\n",
    "See Chapter3.1 (Russel & Norvig)"
   ]
  },
  {
   "cell_type": "markdown",
   "metadata": {},
   "source": [
    "_your answer here..._ \n",
    "\n",
    "****"
   ]
  },
  {
   "cell_type": "markdown",
   "metadata": {},
   "source": [
    "function S IMPLE -P ROBLEM -S OLVING -A GENT (percept) returns an action\n",
    "\n",
    "persistent: seq, an action sequence, initially empty\n",
    "\n",
    "state, some description of the current world state\n",
    "\n",
    "goal, a goal, initially null\n",
    "\n",
    "problem, a problem formulation\n",
    "\n",
    "state ←U PDATE -S TATE (state,percept)\n",
    "\n",
    "if seq is empty then\n",
    "\n",
    "goal ←F ORMULATE -G OAL (state)\n",
    "\n",
    "problem ←F ORMULATE -P ROBLEM (state,goal)\n",
    "\n",
    "seq ←S EARCH (problem)\n",
    "\n",
    "if seq = failure then return a null action\n",
    "\n",
    "action ←F IRST (seq)\n",
    "\n",
    "seq ←R EST (seq)\n",
    "\n",
    "return action"
   ]
  },
  {
   "cell_type": "markdown",
   "metadata": {},
   "source": [
    "4\\. This question requires you to perform BFS and DFS on paper.\n",
    "\n",
    "<img src=\"img/p1.png\" width=\"180\" height=\"180\" >\n",
    "\n",
    "1. Simulate (on pencil-and-paper) breadth-first search starting from node A when the goal node is K.\n",
    "2. Simulate (on pencil-and-paper) depth first search starting from node A when the goal node is I.\n"
   ]
  },
  {
   "cell_type": "markdown",
   "metadata": {},
   "source": [
    "1. _your answer here..._ \n",
    "2. _your answer here..._ \n",
    "\n",
    "***"
   ]
  },
  {
   "cell_type": "markdown",
   "metadata": {},
   "source": [
    "1,A,B,C,D,E,F,H,G,I,K"
   ]
  },
  {
   "cell_type": "markdown",
   "metadata": {},
   "source": [
    "2,A,B,C,E,F,D,H,I"
   ]
  },
  {
   "cell_type": "markdown",
   "metadata": {},
   "source": [
    "5\\.Consider a state space where the start state is number 1 and each state  k has two successors: numbers 2k and 2k + 1.\n",
    "- a. Draw the portion of the state space for states 1 to 15.\n",
    "- b. Suppose the goal state is 11. List the order in which nodes will be visited for breadthfirst\n",
    "search, depth-limited search with limit 3, and iterative deepening search.\n",
    "- c. How well would bidirectional search work on this problem? What is the branching\n",
    "factor in each direction of the bidirectional search?\n",
    "- d. Does the answer to (c) suggest a reformulation of the problem that would allow you to\n",
    "solve the problem of getting from state 1 to a given goal state with almost no search?\n",
    "- e. Call the action going from k to 2k Left, and the action going to 2k + 1 Right. Can you\n",
    "find an algorithm that outputs the solution to this problem without any search at all?\n",
    "\n",
    "See textbook Chapter3.15"
   ]
  },
  {
   "cell_type": "markdown",
   "metadata": {},
   "source": [
    "_your answer here..._ "
   ]
  },
  {
   "cell_type": "markdown",
   "metadata": {},
   "source": [
    "Type Markdown and LaTeX:  α2"
   ]
  },
  {
   "cell_type": "markdown",
   "metadata": {},
   "source": [
    "### Programming Excercises"
   ]
  },
  {
   "cell_type": "markdown",
   "metadata": {},
   "source": [
    "1\\.Write a program to solve a classic ancient Chinese puzzle:  \n",
    " We count 35 heads and 94 legs among the chickens and rabbits in a farm. How many rabbits and how many chickens do we have? "
   ]
  },
  {
   "cell_type": "code",
   "execution_count": 4,
   "metadata": {},
   "outputs": [
    {
     "name": "stdout",
     "output_type": "stream",
     "text": [
      "input head number: 35\n",
      "input leg number: 94\n",
      "There are 12 chickens and -59 ribbits.\n"
     ]
    }
   ],
   "source": [
    "x = int(input(\"input head number: \"))\n",
    "y = int(input(\"input leg number: \"))\n",
    "a= y/2 - x;\n",
    "b = x - b;\n",
    "print(\"There are \"+str(int(a))+\" chickens and \"+str(int(b))+\" ribbits.\")\n"
   ]
  },
  {
   "cell_type": "markdown",
   "metadata": {},
   "source": [
    "2\\. _Social networking_ Please look at the graph below of social relationships. You have a mango farm, you need to find a mango buyer and sell him your mango that you have grown (just a small farm). To this end, our principle is to use our social network of friends separated by one degree, and then second degree friends (friends of friends), third degree friends (friends of friends of friends).\n",
    "\n",
    "Use the depth first algorithm to search your network until you find a mango seller. \n",
    "\n",
    "We make an assumption that if the person's name ends with m, then it means the person must be the mango seller!\n",
    "\n",
    "\n",
    "<img src=\"img/p3.png\" width=\"500\" height=\"400\" >"
   ]
  },
  {
   "cell_type": "code",
   "execution_count": 7,
   "metadata": {},
   "outputs": [
    {
     "name": "stdout",
     "output_type": "stream",
     "text": [
      "\n",
      "\n",
      "depth search first:\n",
      "    you  bob  anuj  alice  peggy  claire  jonny  thom  \n"
     ]
    }
   ],
   "source": [
    "from collections import deque\n",
    "import sys\n",
    "\n",
    "class Graph(object):\n",
    "    def __init__(self, *args, **kwargs):\n",
    "        self.order = []\n",
    "        self.neighbor = {}\n",
    "\n",
    "    def add_node(self, node):\n",
    "        key,val = node\n",
    "        if not isinstance(val, list):\n",
    "            print('node value should be a list')        \n",
    "\n",
    "        self.neighbor[key] = val\n",
    "\n",
    "    def depth_first(self, root):\n",
    "        if root != None:\n",
    "            search_queue = deque()\n",
    "            search_queue.append(root)\n",
    "            visited = []\n",
    "        else:\n",
    "            print('root is None')\n",
    "            return -1\n",
    "        while search_queue:\n",
    "            person = search_queue.popleft()\n",
    "            self.order.append(person)\n",
    "            if (not person in visited) and (person in self.neighbor.keys()):\n",
    "                tmp = self.neighbor[person]\n",
    "                tmp.reverse()\n",
    "                for index in tmp:\n",
    "                    search_queue.appendleft(index)\n",
    "\n",
    "                visited.append(person)\n",
    " \n",
    "    def clear(self):\n",
    "        self.order = []\n",
    "\n",
    "    def node_print(self):\n",
    "        for index in self.order:\n",
    "            print(index, end='  ') \n",
    "\n",
    "if __name__ == '__main__':\n",
    "    g = Graph()\n",
    "    g.add_node(('you',['bob', 'alice','claire']))\n",
    "    g.add_node(('bob',['anuj']))\n",
    "    g.add_node(('claire',['jonny','thom']))\n",
    "    g.add_node(('alice',['peggy']))\n",
    "\n",
    "    print('\\n\\ndepth search first:') \n",
    "    print('  ', end='  ')\n",
    "    g.depth_first('you')\n",
    "    g.node_print()\n",
    "    print() "
   ]
  },
  {
   "cell_type": "markdown",
   "metadata": {},
   "source": [
    "3\\. Depth First traverse：Use depth first traversal to traverse all the DLL files on the C disk and output the file names.\n",
    "\n",
    "Update your code to search for a particular filename.\n",
    "\n",
    "What protocol did you use to select the next node to expand on the fringe?"
   ]
  },
  {
   "cell_type": "code",
   "execution_count": 15,
   "metadata": {},
   "outputs": [
    {
     "name": "stdout",
     "output_type": "stream",
     "text": [
      "/Users/chenzhi/\\RI.csv\n",
      "/Users/chenzhi/\\results.csv\n"
     ]
    }
   ],
   "source": [
    "import os\n",
    "class depth:\n",
    "    def __init__(self,path):\n",
    "        self.path = path\n",
    "        self.MyList =[]\n",
    "        self.MyList.append(self.path)\n",
    "\n",
    "    def BianLi(self):\n",
    "        while len(self.MyList) !=0:\n",
    "            path =self.MyList.pop()\n",
    "            if os.path.isdir(path):\n",
    "                myFileList =os.listdir(path)\n",
    "                for line in myFileList:\n",
    "                    myPath =path+\"\\\\\"+line\n",
    "                    if os.path.isdir(myPath):\n",
    "                        self.MyList.append(myPath)\n",
    "                    else:\n",
    "                         if os.path.splitext(myPath)[-1]==\".csv\":\n",
    "                                print(myPath)\n",
    "            else:\n",
    "                 if os.path.splitext(path)[-1]==\".csv\":\n",
    "                                print(path)\n",
    "    def __del__(self):\n",
    "\n",
    "        pass\n",
    "file =depth(r\"/Users/chenzhi/\")\n",
    "file.BianLi()"
   ]
  },
  {
   "cell_type": "markdown",
   "metadata": {},
   "source": [
    "4\\.\n",
    "Breadth First traverse：Use breadth traversal to traverse all the DLL files on the C disk and output the filename.\n",
    "\n",
    "Update your code to search for a particular filename."
   ]
  },
  {
   "cell_type": "code",
   "execution_count": 17,
   "metadata": {},
   "outputs": [
    {
     "name": "stdout",
     "output_type": "stream",
     "text": [
      "/Users/chenzhi/\\RI.csv\n",
      "/Users/chenzhi/\\results.csv\n"
     ]
    }
   ],
   "source": [
    "import os\n",
    "from collections import deque\n",
    "class bread:\n",
    "    def __init__(self,path):\n",
    "        self.path =path \n",
    "        self.MyList =deque([])\n",
    "        self.MyList.append(self.path)\n",
    "\n",
    "    def  BianLi(self):\n",
    "        \n",
    "        while len(self.MyList) !=0:\n",
    "            path =self.MyList.popleft()\n",
    "            if os.path.isdir(path):\n",
    "                myFilePath =os.listdir(path)\n",
    "                for line in myFilePath:\n",
    "                    myPath =path +\"\\\\\"+line\n",
    "                    if os.path.isdir(myPath):\n",
    "                        self.MyList.append(myPath)\n",
    "                    else:\n",
    "                        if os.path.splitext(myPath)[-1]==\".csv\":\n",
    "                                print(myPath)                  \n",
    "            else:\n",
    "                 if os.path.splitext(path)[-1]==\".csv\":\n",
    "                                 print(path)\n",
    "    def __del__(self):\n",
    "        pass\n",
    "file =bread(r\"/Users/chenzhi/\")\n",
    "file.BianLi()"
   ]
  },
  {
   "cell_type": "markdown",
   "metadata": {},
   "source": [
    "5\\. Uniform cost search"
   ]
  },
  {
   "cell_type": "markdown",
   "metadata": {},
   "source": [
    "Consider a state space where the start state is 2 and each state k has three successors: numbers 2k, 2k+1, 2k+2. The cost from state k to each respective child is k, ground(k/2), k+2.\n",
    "\n",
    "can you implement a uniform-cost-search algorithm with python. The goal state is number 85."
   ]
  },
  {
   "cell_type": "markdown",
   "metadata": {},
   "source": [
    "6\\.a* question"
   ]
  },
  {
   "cell_type": "markdown",
   "metadata": {},
   "source": [
    "A cute cat stays in the A position, he is hungry. But the food is placed in the B position. Can you help him to find the food? \n",
    "Hint:  The problem isn't easy. It's essential for you to understand the A* algorithm before you solve this problem. Then, you can use some thought of Node in java, when you are in code.\n",
    "\n",
    "<img src=\"img/p4.png\" width=\"500\" height=\"400\" >\n"
   ]
  },
  {
   "cell_type": "code",
   "execution_count": 18,
   "metadata": {},
   "outputs": [
    {
     "name": "stdout",
     "output_type": "stream",
     "text": [
      "path length is 5\n",
      "searched squares count is 19\n",
      "   *  .\n",
      "  *#* .\n",
      " S # E.\n",
      "   #...\n",
      ".......\n"
     ]
    }
   ],
   "source": [
    "import math\n",
    "\n",
    "tm = [\n",
    "'.......',\n",
    "'...#...',\n",
    "'.S.#.E.',\n",
    "'...#...',\n",
    "'.......']\n",
    "\n",
    "test_map = []\n",
    "\n",
    "class Node_Elem:\n",
    "    \n",
    "    def __init__(self, parent, x, y, dist):\n",
    "        self.parent = parent\n",
    "        self.x = x\n",
    "        self.y = y\n",
    "        self.dist = dist\n",
    "        \n",
    "class A_Star:\n",
    "    def __init__(self, s_x, s_y, e_x, e_y, w=6, h=4):\n",
    "        self.s_x = s_x\n",
    "        self.s_y = s_y\n",
    "        self.e_x = e_x\n",
    "        self.e_y = e_y\n",
    "        \n",
    "        self.width = w\n",
    "        self.height = h\n",
    "        \n",
    "        self.open = []\n",
    "        self.close = []\n",
    "        self.path = []\n",
    "        \n",
    "    def find_path(self):\n",
    "       \n",
    "        p = Node_Elem(None, self.s_x, self.s_y, 0.0)\n",
    "        while True:\n",
    "           \n",
    "            self.extend_round(p)\n",
    "            \n",
    "            if not self.open:\n",
    "                return\n",
    "            \n",
    "            idx, p = self.get_best()\n",
    "            \n",
    "            if self.is_target(p):\n",
    "                self.make_path(p)\n",
    "                return\n",
    "            self.close.append(p)\n",
    "            del self.open[idx]\n",
    "            \n",
    "    def make_path(self,p):\n",
    "        while p:\n",
    "            self.path.append((p.x, p.y))\n",
    "            p = p.parent\n",
    "        \n",
    "    def is_target(self, i):\n",
    "        return i.x == self.e_x and i.y == self.e_y\n",
    "        \n",
    "    def get_best(self):\n",
    "        best = None\n",
    "        bv = 1000000\n",
    "        bi = -1\n",
    "        for idx, i in enumerate(self.open):\n",
    "            value = self.get_dist(i)\n",
    "            if value < bv:\n",
    "                best = i\n",
    "                bv = value\n",
    "                bi = idx\n",
    "        return bi, best\n",
    "        \n",
    "    def get_dist(self, i):\n",
    "        \n",
    "        return i.dist + math.sqrt(\n",
    "            (self.e_x-i.x)*(self.e_x-i.x)\n",
    "            + (self.e_y-i.y)*(self.e_y-i.y))*1.2\n",
    "        \n",
    "    def extend_round(self, p):\n",
    "        \n",
    "        xs = (-1, 0, 1, -1, 1, -1, 0, 1)\n",
    "        ys = (-1,-1,-1,  0, 0,  1, 1, 1)\n",
    "        for x, y in zip(xs, ys):\n",
    "            new_x, new_y = x + p.x, y + p.y\n",
    "            \n",
    "            if not self.is_valid_coord(new_x, new_y):\n",
    "                continue\n",
    "            \n",
    "            node = Node_Elem(p, new_x, new_y, p.dist+self.get_cost(\n",
    "                        p.x, p.y, new_x, new_y))\n",
    "            \n",
    "            if self.node_in_close(node):\n",
    "                continue\n",
    "            i = self.node_in_open(node)\n",
    "            if i != -1:\n",
    "                if self.open[i].dist > node.dist:\n",
    "                    self.open[i].parent = p\n",
    "                    self.open[i].dist = node.dist\n",
    "                continue\n",
    "            self.open.append(node)\n",
    "            \n",
    "    def get_cost(self, x1, y1, x2, y2):\n",
    "        if x1 == x2 or y1 == y2:\n",
    "            return 1.0\n",
    "        return 1.4\n",
    "        \n",
    "    def node_in_close(self, node):\n",
    "        for i in self.close:\n",
    "            if node.x == i.x and node.y == i.y:\n",
    "                return True\n",
    "        return False\n",
    "        \n",
    "    def node_in_open(self, node):\n",
    "        for i, n in enumerate(self.open):\n",
    "            if node.x == n.x and node.y == n.y:\n",
    "                return i\n",
    "        return -1\n",
    "        \n",
    "    def is_valid_coord(self, x, y):\n",
    "        if x < 0 or x >= self.width or y < 0 or y >= self.height:\n",
    "            return False\n",
    "        return test_map[y][x] != '#'\n",
    "    \n",
    "    def get_searched(self):\n",
    "        l = []\n",
    "        for i in self.open:\n",
    "            l.append((i.x, i.y))\n",
    "        for i in self.close:\n",
    "            l.append((i.x, i.y))\n",
    "        return l\n",
    "        \n",
    "def print_test_map():\n",
    "    for line in test_map:\n",
    "         print (''.join(line))\n",
    "\n",
    " \n",
    "def get_start_XY():\n",
    "    return get_symbol_XY('S')\n",
    "    \n",
    "def get_end_XY():\n",
    "    return get_symbol_XY('E')\n",
    "    \n",
    "def get_symbol_XY(s):\n",
    "    for y, line in enumerate(test_map):\n",
    "        try:\n",
    "            x = line.index(s)\n",
    "        except:\n",
    "            continue\n",
    "        else:\n",
    "            break\n",
    "    return x, y\n",
    "def mark_path(l):\n",
    "    mark_symbol(l, '*')\n",
    "    \n",
    "def mark_searched(l):\n",
    "    mark_symbol(l, ' ')\n",
    "    \n",
    "def mark_symbol(l, s):\n",
    "    for x, y in l:\n",
    "        test_map[y][x] = s\n",
    "    \n",
    "def mark_start_end(s_x, s_y, e_x, e_y):\n",
    "    test_map[s_y][s_x] = 'S'\n",
    "    test_map[e_y][e_x] = 'E'\n",
    "    \n",
    "def tm_to_test_map():\n",
    "    for line in tm:\n",
    "        test_map.append(list(line))\n",
    "        \n",
    "def find_path():\n",
    "    s_x, s_y = get_start_XY()\n",
    "    e_x, e_y = get_end_XY()\n",
    "    a_star = A_Star(s_x, s_y, e_x, e_y)\n",
    "    a_star.find_path()\n",
    "    searched = a_star.get_searched()\n",
    "    path = a_star.path\n",
    "    mark_searched(searched)\n",
    "    mark_path(path)\n",
    "    print (\"path length is %d\"%(len(path)))\n",
    "    print (\"searched squares count is %d\"%(len(searched)))\n",
    "    mark_start_end(s_x, s_y, e_x, e_y)\n",
    "    \n",
    "if __name__ == \"__main__\":\n",
    "    tm_to_test_map()\n",
    "    find_path()\n",
    "    print_test_map()\n"
   ]
  }
 ],
 "metadata": {
  "kernelspec": {
   "display_name": "Python 3",
   "language": "python",
   "name": "python3"
  },
  "language_info": {
   "codemirror_mode": {
    "name": "ipython",
    "version": 3
   },
   "file_extension": ".py",
   "mimetype": "text/x-python",
   "name": "python",
   "nbconvert_exporter": "python",
   "pygments_lexer": "ipython3",
   "version": "3.6.6"
  }
 },
 "nbformat": 4,
 "nbformat_minor": 2
}
